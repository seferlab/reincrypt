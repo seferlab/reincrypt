{
  "nbformat": 4,
  "nbformat_minor": 0,
  "metadata": {
    "colab": {
      "provenance": [],
      "collapsed_sections": []
    },
    "kernelspec": {
      "name": "python3",
      "display_name": "Python 3"
    },
    "language_info": {
      "name": "python"
    }
  },
  "cells": [
    {
      "cell_type": "code",
      "execution_count": 1,
      "metadata": {
        "colab": {
          "base_uri": "https://localhost:8080/"
        },
        "id": "nyjG4Rqy_WQG",
        "outputId": "c2281a9b-673c-4644-c32a-ecc5454c23cc"
      },
      "outputs": [
        {
          "output_type": "stream",
          "name": "stdout",
          "text": [
            "Updated property [core/project].\n"
          ]
        }
      ],
      "source": [
        "# Login to Google Cloud\n",
        "from google.colab import auth\n",
        "import os\n",
        "auth.authenticate_user()\n",
        "\n",
        "# Set project to reincrypt\n",
        "!gcloud config set project reincrypt"
      ]
    },
    {
      "cell_type": "code",
      "source": [
        "import numpy as np\n",
        "from natsort import natsorted\n",
        "\n",
        "def str_to_ndarray(str: str) -> np.ndarray:\n",
        "    rows = str.split('\\n')\n",
        "    arr = np.ndarray((len(rows), len(rows[0].split())))\n",
        "\n",
        "    for idx, row in enumerate(rows):\n",
        "        arr[idx, :] = row.split()\n",
        "\n",
        "    return arr"
      ],
      "metadata": {
        "id": "t5FCJjxXDgmz"
      },
      "execution_count": 2,
      "outputs": []
    },
    {
      "cell_type": "code",
      "source": [
        "training_data_zip_file = \"training_2022-10-23.zip\""
      ],
      "metadata": {
        "id": "LvpDgjEv_2cl"
      },
      "execution_count": 3,
      "outputs": []
    },
    {
      "cell_type": "code",
      "source": [
        "!gsutil -m cp gs://reincrypt_data_us/{training_data_zip_file} .\n",
        "!unzip {training_data_zip_file}"
      ],
      "metadata": {
        "id": "oA2MJ7Au_s9B"
      },
      "execution_count": null,
      "outputs": []
    },
    {
      "cell_type": "code",
      "source": [
        "training_data_dir = \"/content/training/\""
      ],
      "metadata": {
        "id": "ZyI8kaHy_w_w"
      },
      "execution_count": 4,
      "outputs": []
    },
    {
      "cell_type": "code",
      "source": [
        "images = []\n",
        "\n",
        "for curr in natsorted(os.listdir(training_data_dir)):\n",
        "    for rimg in natsorted(os.listdir(os.path.join(training_data_dir, curr))):\n",
        "        image = None\n",
        "        with open(os.path.join(training_data_dir, curr, rimg), \"r+\") as r:\n",
        "            rimg_content = r.read()\n",
        "            tis = rimg_content.split(\"$\")[0].strip()\n",
        "            image = str_to_ndarray(tis)\n",
        "        images.append(image)\n",
        "images = np.array(images)"
      ],
      "metadata": {
        "id": "RAKcBO4PBfbC"
      },
      "execution_count": 5,
      "outputs": []
    },
    {
      "cell_type": "code",
      "source": [
        "technical_indicators = [images[:, :, i].reshape((-1)) for i in range(32)]"
      ],
      "metadata": {
        "id": "5cTgQrhKWoOB"
      },
      "execution_count": 6,
      "outputs": []
    },
    {
      "cell_type": "code",
      "source": [
        "technical_indicators"
      ],
      "metadata": {
        "colab": {
          "base_uri": "https://localhost:8080/"
        },
        "id": "EUVr1_UfW-da",
        "outputId": "96475e7e-538a-4b39-a9cc-c1e5a4c5e279"
      },
      "execution_count": 7,
      "outputs": [
        {
          "output_type": "execute_result",
          "data": {
            "text/plain": [
              "[array([ 0.,  6., 14., ..., 13.,  6.,  0.]),\n",
              " array([83., 53., 32., ..., 36., 18.,  0.]),\n",
              " array([ 0., 13., 33., ..., 11.,  4.,  0.]),\n",
              " array([ 0.,  0., 14., ...,  0.,  0.,  0.]),\n",
              " array([ 0.,  4., 19., ...,  2.,  2.,  0.]),\n",
              " array([ 0., 12., 24., ...,  2.,  0.,  0.]),\n",
              " array([ 1.,  0.,  5., ..., 31., 15.,  0.]),\n",
              " array([ 6.,  0.,  0., ..., 32., 15.,  0.]),\n",
              " array([ 0.,  4., 19., ...,  2.,  2.,  0.]),\n",
              " array([ 0.,  0., 47., ...,  0.,  0.,  0.]),\n",
              " array([255., 240., 221., ...,  11.,  15.,  19.]),\n",
              " array([255., 229., 177., ..., 239., 243., 247.]),\n",
              " array([255., 191., 144., ..., 186., 182., 178.]),\n",
              " array([  0.,  91., 154., ..., 186., 188., 190.]),\n",
              " array([255., 201., 162., ..., 113., 135., 139.]),\n",
              " array([92., 65., 16., ...,  0.,  0.,  0.]),\n",
              " array([255., 191., 144., ..., 186., 182., 178.]),\n",
              " array([15.,  0., 45., ..., 88., 92., 95.]),\n",
              " array([254., 254., 143., ..., 255., 255., 255.]),\n",
              " array([255., 224., 192., ...,  46.,  52.,  57.]),\n",
              " array([255.,  78.,  85., ..., 223., 221., 218.]),\n",
              " array([255., 175., 118., ..., 251., 252., 253.]),\n",
              " array([  0.,   2.,   5., ..., 235., 245., 255.]),\n",
              " array([255., 181., 137., ...,  93., 115., 119.]),\n",
              " array([255., 181., 137., ...,  93., 115., 119.]),\n",
              " array([  0.,   3.,   7., ..., 240., 247., 254.]),\n",
              " array([  0.,   3.,   7., ..., 240., 247., 255.]),\n",
              " array([ 5.,  0., 29., ...,  0.,  0.,  0.]),\n",
              " array([255., 208., 138., ..., 232., 211., 195.]),\n",
              " array([  2.,   0.,  15., ..., 252., 245., 239.]),\n",
              " array([255., 204., 133., ..., 233., 213., 198.]),\n",
              " array([254., 227., 208., ..., 243., 248., 255.])]"
            ]
          },
          "metadata": {},
          "execution_count": 7
        }
      ]
    },
    {
      "cell_type": "code",
      "source": [
        "from sklearn.cluster import KMeans"
      ],
      "metadata": {
        "id": "Zv9V-TjGXB6P"
      },
      "execution_count": 8,
      "outputs": []
    },
    {
      "cell_type": "code",
      "source": [
        "kmeans = KMeans(n_clusters=4, random_state=0).fit(technical_indicators)"
      ],
      "metadata": {
        "id": "bjSm_OaBXMap"
      },
      "execution_count": 9,
      "outputs": []
    },
    {
      "cell_type": "code",
      "source": [
        "kmeans.labels_"
      ],
      "metadata": {
        "colab": {
          "base_uri": "https://localhost:8080/"
        },
        "id": "xib-PGsYXcX_",
        "outputId": "28df6807-eff8-4238-8e5d-d3cca3cc5536"
      },
      "execution_count": 10,
      "outputs": [
        {
          "output_type": "execute_result",
          "data": {
            "text/plain": [
              "array([0, 1, 0, 0, 0, 0, 0, 0, 0, 0, 2, 2, 1, 2, 2, 2, 1, 1, 2, 2, 2, 1,\n",
              "       3, 2, 2, 3, 3, 3, 2, 3, 2, 1], dtype=int32)"
            ]
          },
          "metadata": {},
          "execution_count": 10
        }
      ]
    }
  ]
}